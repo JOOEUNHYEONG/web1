{
  "cells": [
    {
      "cell_type": "markdown",
      "metadata": {
        "id": "view-in-github",
        "colab_type": "text"
      },
      "source": [
        "<a href=\"https://colab.research.google.com/github/JOOEUNHYEONG/web1/blob/main/Colaboratory%EC%97%90_%EC%98%A4%EC%8B%A0_%EA%B2%83%EC%9D%84_%ED%99%98%EC%98%81%ED%95%A9%EB%8B%88%EB%8B%A4.ipynb\" target=\"_parent\"><img src=\"https://colab.research.google.com/assets/colab-badge.svg\" alt=\"Open In Colab\"/></a>"
      ]
    },
    {
      "cell_type": "markdown",
      "source": [
        "#케플러 공식 이용해서 공전 궤도 반지름 구하기:"
      ],
      "metadata": {
        "id": "Bp_v21PPTtp3"
      }
    },
    {
      "cell_type": "code",
      "source": [
        "import numpy as np\n",
        "\n",
        "# 공전 주기 (일)\n",
        "T = 0.206\n",
        "# 태양의 질량 (kg)\n",
        "M_sun = 1.98*1e30\n",
        "# 다른 물체의 질량 (kg)\n",
        "M_other = 1.117*M_sun\n",
        "# 만유인력상수\n",
        "G = 6.67*1e-11\n",
        "\n",
        "# 타원 궤도의 큰 축 계산\n",
        "a = (G * (M_sun + M_other) * T**2 / (4 * np.pi**2))**(1/3)\n",
        "\n",
        "# AU로 변환\n",
        "a_AU = a / (1.5e11)\n",
        "\n",
        "print('Semi-major axis of the orbit : ', a_AU, 'AU')\n"
      ],
      "metadata": {
        "colab": {
          "base_uri": "https://localhost:8080/"
        },
        "id": "cGDJGu0cRRVN",
        "outputId": "92d8bb44-8303-48ca-badc-b132ab0662e2"
      },
      "execution_count": 14,
      "outputs": [
        {
          "output_type": "stream",
          "name": "stdout",
          "text": [
            "Semi-major axis of the orbit :  4.465508664282866e-06 AU\n"
          ]
        }
      ]
    },
    {
      "cell_type": "markdown",
      "source": [
        "#인공위성의 속력 이용해서 공전 궤도 반지름 구하기"
      ],
      "metadata": {
        "id": "iEQkjLfmT_68"
      }
    },
    {
      "cell_type": "code",
      "source": [
        "import numpy as np\n",
        "\n",
        "# 인공위성의 속력 (m/s)\n",
        "v = 10000\n",
        "# 중심 천체의 질량 (kg)\n",
        "M_earth = 5.972e24\n",
        "# 만유인력상수\n",
        "G = 6.67*1e-11\n",
        "\n",
        "# 궤도 반지름 계산\n",
        "r = (G * M_earth) / (v**2)\n",
        "\n",
        "# AU로 변환\n",
        "r_AU = r / (1.5e11)\n",
        "\n",
        "print('Orbital radius of the satellite : ', r_AU, 'AU')\n"
      ],
      "metadata": {
        "colab": {
          "base_uri": "https://localhost:8080/"
        },
        "id": "U9axa9b8Sxc1",
        "outputId": "b8457aa1-25bb-459c-a686-c0d6b3bcff26"
      },
      "execution_count": 10,
      "outputs": [
        {
          "output_type": "stream",
          "name": "stdout",
          "text": [
            "Orbital radius of the satellite :  2.6555493333333334e-05 AU\n"
          ]
        }
      ]
    }
  ],
  "metadata": {
    "colab": {
      "name": "Colaboratory에 오신 것을 환영합니다",
      "toc_visible": true,
      "provenance": [],
      "include_colab_link": true
    },
    "kernelspec": {
      "display_name": "Python 3",
      "name": "python3"
    }
  },
  "nbformat": 4,
  "nbformat_minor": 0
}